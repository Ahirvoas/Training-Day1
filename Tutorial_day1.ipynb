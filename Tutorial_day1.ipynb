{
  "cells": [
    {
      "cell_type": "markdown",
      "metadata": {
        "colab_type": "text",
        "id": "view-in-github"
      },
      "source": [
        "<a href=\"https://colab.research.google.com/github/Ahirvoas/Training-Day1/blob/main/Tutorial_day1.ipynb\" target=\"_parent\"><img src=\"https://colab.research.google.com/assets/colab-badge.svg\" alt=\"Open In Colab\"/></a>"
      ]
    },
    {
      "cell_type": "code",
      "execution_count": null,
      "id": "EhHYdhm9ZT23",
      "metadata": {
        "colab": {
          "base_uri": "https://localhost:8080/"
        },
        "id": "EhHYdhm9ZT23",
        "outputId": "a5ea8a7a-33c7-45ac-a9cc-5aab5ff1302e"
      },
      "outputs": [
        {
          "name": "stdout",
          "output_type": "stream",
          "text": [
            "✨🍰✨ Everything looks OK!\n"
          ]
        }
      ],
      "source": [
        "!pip install condacolab &> /dev/null\n",
        "import condacolab\n",
        "condacolab.install()\n",
        "!conda update -n base -c conda-forge conda &> /dev/null"
      ]
    },
    {
      "cell_type": "markdown",
      "id": "ZT4Ld5YjIktM",
      "metadata": {
        "id": "ZT4Ld5YjIktM"
      },
      "source": [
        "### Install the python toolbox package"
      ]
    },
    {
      "cell_type": "code",
      "execution_count": null,
      "id": "UnXIxAt5d_Gn",
      "metadata": {
        "colab": {
          "base_uri": "https://localhost:8080/"
        },
        "id": "UnXIxAt5d_Gn",
        "outputId": "14126228-8109-4784-e6e6-f5b9c7c6c6c7"
      },
      "outputs": [
        {
          "name": "stdout",
          "output_type": "stream",
          "text": [
            "Cloning into 'python-toolbox'...\n",
            "warning: redirecting to https://github.com/OpenFAST/python-toolbox/\n",
            "remote: Enumerating objects: 3011, done.\u001b[K\n",
            "remote: Counting objects: 100% (1230/1230), done.\u001b[K\n",
            "remote: Compressing objects: 100% (566/566), done.\u001b[K\n",
            "remote: Total 3011 (delta 731), reused 997 (delta 651), pack-reused 1781\u001b[K\n",
            "Receiving objects: 100% (3011/3011), 2.49 MiB | 17.21 MiB/s, done.\n",
            "Resolving deltas: 100% (1829/1829), done.\n",
            "/content/python-toolbox\n",
            "/content\n"
          ]
        }
      ],
      "source": [
        "import os, sys\n",
        "\n",
        "if os.path.isdir('python-toolbox'):\n",
        "  !rm -rf python-toolbox\n",
        "!git clone http://github.com/OpenFAST/python-toolbox\n",
        "%cd python-toolbox\n",
        "!python -m  pip install -e . &> /dev/null\n",
        "sys.path.append(os.getcwd())\n",
        "%cd .."
      ]
    },
    {
      "cell_type": "code",
      "execution_count": null,
      "id": "zujoStSyZJgr",
      "metadata": {
        "id": "zujoStSyZJgr"
      },
      "outputs": [],
      "source": [
        "!conda install -c conda-forge openfast &> /dev/null"
      ]
    },
    {
      "cell_type": "markdown",
      "id": "BWmBPfYZLhso",
      "metadata": {
        "id": "BWmBPfYZLhso"
      },
      "source": [
        "### Download the folder"
      ]
    },
    {
      "cell_type": "code",
      "execution_count": null,
      "id": "QEppacl3LrNY",
      "metadata": {
        "colab": {
          "base_uri": "https://localhost:8080/"
        },
        "id": "QEppacl3LrNY",
        "outputId": "50a9f090-cf68-4abb-9c11-b1f53cb327aa"
      },
      "outputs": [
        {
          "name": "stdout",
          "output_type": "stream",
          "text": [
            "Cloning into 'Training-Day1'...\n",
            "remote: Enumerating objects: 1898, done.\u001b[K\n",
            "remote: Counting objects:   1% (1/55)\u001b[K\rremote: Counting objects:   3% (2/55)\u001b[K\rremote: Counting objects:   5% (3/55)\u001b[K\rremote: Counting objects:   7% (4/55)\u001b[K\rremote: Counting objects:   9% (5/55)\u001b[K\rremote: Counting objects:  10% (6/55)\u001b[K\rremote: Counting objects:  12% (7/55)\u001b[K\rremote: Counting objects:  14% (8/55)\u001b[K\rremote: Counting objects:  16% (9/55)\u001b[K\rremote: Counting objects:  18% (10/55)\u001b[K\rremote: Counting objects:  20% (11/55)\u001b[K\rremote: Counting objects:  21% (12/55)\u001b[K\rremote: Counting objects:  23% (13/55)\u001b[K\rremote: Counting objects:  25% (14/55)\u001b[K\rremote: Counting objects:  27% (15/55)\u001b[K\rremote: Counting objects:  29% (16/55)\u001b[K\rremote: Counting objects:  30% (17/55)\u001b[K\rremote: Counting objects:  32% (18/55)\u001b[K\rremote: Counting objects:  34% (19/55)\u001b[K\rremote: Counting objects:  36% (20/55)\u001b[K\rremote: Counting objects:  38% (21/55)\u001b[K\rremote: Counting objects:  40% (22/55)\u001b[K\rremote: Counting objects:  41% (23/55)\u001b[K\rremote: Counting objects:  43% (24/55)\u001b[K\rremote: Counting objects:  45% (25/55)\u001b[K\rremote: Counting objects:  47% (26/55)\u001b[K\rremote: Counting objects:  49% (27/55)\u001b[K\rremote: Counting objects:  50% (28/55)\u001b[K\rremote: Counting objects:  52% (29/55)\u001b[K\rremote: Counting objects:  54% (30/55)\u001b[K\rremote: Counting objects:  56% (31/55)\u001b[K\rremote: Counting objects:  58% (32/55)\u001b[K\rremote: Counting objects:  60% (33/55)\u001b[K\rremote: Counting objects:  61% (34/55)\u001b[K\rremote: Counting objects:  63% (35/55)\u001b[K\rremote: Counting objects:  65% (36/55)\u001b[K\rremote: Counting objects:  67% (37/55)\u001b[K\rremote: Counting objects:  69% (38/55)\u001b[K\rremote: Counting objects:  70% (39/55)\u001b[K\rremote: Counting objects:  72% (40/55)\u001b[K\rremote: Counting objects:  74% (41/55)\u001b[K\rremote: Counting objects:  76% (42/55)\u001b[K\rremote: Counting objects:  78% (43/55)\u001b[K\rremote: Counting objects:  80% (44/55)\u001b[K\rremote: Counting objects:  81% (45/55)\u001b[K\rremote: Counting objects:  83% (46/55)\u001b[K\rremote: Counting objects:  85% (47/55)\u001b[K\rremote: Counting objects:  87% (48/55)\u001b[K\rremote: Counting objects:  89% (49/55)\u001b[K\rremote: Counting objects:  90% (50/55)\u001b[K\rremote: Counting objects:  92% (51/55)\u001b[K\rremote: Counting objects:  94% (52/55)\u001b[K\rremote: Counting objects:  96% (53/55)\u001b[K\rremote: Counting objects:  98% (54/55)\u001b[K\rremote: Counting objects: 100% (55/55)\u001b[K\rremote: Counting objects: 100% (55/55), done.\u001b[K\n",
            "remote: Compressing objects: 100% (40/40), done.\u001b[K\n",
            "remote: Total 1898 (delta 22), reused 44 (delta 13), pack-reused 1843\u001b[K\n",
            "Receiving objects: 100% (1898/1898), 119.12 MiB | 24.41 MiB/s, done.\n",
            "Resolving deltas: 100% (1705/1705), done.\n"
          ]
        }
      ],
      "source": [
        "!rm -rf Training-Day1\n",
        "!git clone https://github.com/Ahirvoas/Training-Day1"
      ]
    },
    {
      "cell_type": "markdown",
      "id": "b9e44cdb",
      "metadata": {
        "id": "b9e44cdb"
      },
      "source": [
        "# Wind Turbine Modeling Workshop\n",
        "\n",
        "## OpenFAST\n",
        "\n",
        "OpenFAST is a multi-physics and multi-fidelity tool for the simulation of the coupled dynamic response of wind turbines. The software allows the analysis of a wide range of wind turbine configurations, including those with two- or three-bladed horizontal axis rotors, pitch regulated or fixed pitch, rigid or tilting hubs, downwind or upwind rotors, and lattice or tubular towers. In addition, the wind turbine can be modelled on land or at sea on fixed or floating substructures.\n",
        "\n",
        "<img src=\"https://drive.google.com/uc?export=view&id=1UqbFPXcbv035NGfpkbq8thaMF3An8PaT\" width=\"500\"/>\n",
        "\n",
        "## OpenFAST - python toolbox\n",
        "\n",
        "pyfast is a Python package developed by the NREL team to couple quickly and easily the OpenFAST tool. This package allows the modification and post-processing of files."
      ]
    },
    {
      "cell_type": "code",
      "execution_count": null,
      "id": "f88957e0",
      "metadata": {
        "id": "f88957e0"
      },
      "outputs": [],
      "source": [
        "# Package pyfast importation  (and some useful packages)\n",
        "\n",
        "from pyFAST.case_generation.runner import run_fast\n",
        "import pyFAST.postpro as postpro\n",
        "from pyFAST.input_output import FASTOutputFile\n",
        "from pyFAST.input_output import FASTInputFile\n",
        "import matplotlib.pyplot as plt\n",
        "import numpy as np\n",
        "from scipy import signal\n",
        "import os"
      ]
    },
    {
      "cell_type": "markdown",
      "id": "8f053391",
      "metadata": {
        "id": "8f053391"
      },
      "source": [
        "### Case - Floating offfshore wind turbine steady wind\n",
        "\n",
        "<img src=\"https://drive.google.com/uc?export=view&id=1vddiFGtyuvC0u7X3GUwbSrYkZbmYdT5B\" width=\"250\"/>\n",
        "\n",
        "This tutorial is based on a **offshore reference wind turbine** developed within the Offshore Code Comparison 3 project which is a spar buoy structure with the NREL 5MW wind turbine atop.The gross properties chosen for the NREL 5-MW baseline wind turbine are gathered in the following table.\n",
        "\n",
        "| Rating | 5 MW |\n",
        "|:---:|:---:|\n",
        "| Rotor orientation, Configuraiton | Upwind, 3 Blades |\n",
        "| Rotor, Hub Diameter | 126 m, 3m |\n",
        "| Hub Height | 90 m |\n",
        "| Cut-In, Rated, Cut-Out Wind Speed | 3m/s, 11.4m/s, 25m/s |\n",
        "| Cut-in, rated rotor speed | 6.9 rpm, 12.1 rpm |\n",
        "| Rotor Mass | 110,000 kg |\n",
        "| Nacelle Mass | 240,000 kg |\n",
        "| Tower Mass | 347,460 kg |\n",
        "\n",
        "In this tutorial, we will consider, hereafter, a **steady wind** as external sollicitation."
      ]
    },
    {
      "cell_type": "code",
      "execution_count": null,
      "id": "ghkoFcAYN2En",
      "metadata": {
        "id": "ghkoFcAYN2En"
      },
      "outputs": [],
      "source": [
        "path = os.path.join(os.getcwd(), 'Training-Day1', 'OffshoreSteadyWindCtrl')"
      ]
    },
    {
      "cell_type": "code",
      "execution_count": null,
      "id": "c7b9912e",
      "metadata": {
        "id": "c7b9912e"
      },
      "outputs": [],
      "source": [
        "# Specify the OpenFAST binaries and OpenFAST main file for simulation\n",
        "\n",
        "FAST_EXE  = r'/usr/local/bin/openfast' # Location of a FAST exe (and dll) (FAST_EXE  = openfast)\n",
        "main_file = os.path.join(path, 'NRELOffshrBsline5MW.fst')  # Main file in OpenFAST directory"
      ]
    },
    {
      "cell_type": "markdown",
      "id": "13c6c201",
      "metadata": {
        "id": "13c6c201"
      },
      "source": [
        "### 1 - Run your first wind turbine simulation\n",
        "\n",
        "#### Run your first simulation thanks to OpenFAST software. We will use the *run_fast* function developed in the pyFAST package."
      ]
    },
    {
      "cell_type": "code",
      "execution_count": null,
      "id": "facd42b3",
      "metadata": {
        "colab": {
          "base_uri": "https://localhost:8080/"
        },
        "id": "facd42b3",
        "outputId": "bb404ef8-ef9d-4930-e789-03b4e7fb518c"
      },
      "outputs": [
        {
          "name": "stdout",
          "output_type": "stream",
          "text": [
            "Running example script: /content/Training-Day1/OffshoreSteadyWindCtrl/NRELOffshrBsline5MW.fst\n",
            "Running: /usr/local/bin/openfast /content/Training-Day1/OffshoreSteadyWindCtrl/NRELOffshrBsline5MW.fst\n"
          ]
        },
        {
          "data": {
            "text/plain": [
              "<pyFAST.case_generation.runner.run_cmd.<locals>.Dummy at 0x7f25c47fba60>"
            ]
          },
          "execution_count": 51,
          "metadata": {},
          "output_type": "execute_result"
        }
      ],
      "source": [
        "# Run OpenFAST\n",
        "\n",
        "print('Running example script: {}'.format(main_file))\n",
        "run_fast(main_file, fastExe=FAST_EXE, wait=True, showOutputs=True, showCommand=True)"
      ]
    },
    {
      "cell_type": "markdown",
      "id": "2abd466a",
      "metadata": {
        "id": "2abd466a"
      },
      "source": [
        "#### Look a the OpenFAST working directory and find the modification (i.e., the new files created after the OpenFAST run)."
      ]
    },
    {
      "cell_type": "code",
      "execution_count": null,
      "id": "dec0b008",
      "metadata": {
        "colab": {
          "base_uri": "https://localhost:8080/"
        },
        "id": "dec0b008",
        "outputId": "ccd9a404-be7e-495d-fc5e-febd584f334b",
        "scrolled": true
      },
      "outputs": [
        {
          "name": "stdout",
          "output_type": "stream",
          "text": [
            "Average results on full simulation length\n",
            "   Time_[s]  Wind1VelX_[m/s]  Wind1VelY_[m/s]  Wind1VelZ_[m/s]  \\\n",
            "0  32.55625              8.0              0.0              0.0   \n",
            "\n",
            "   BldPitch1_[deg]  Azimuth_[deg]  RotSpeed_[rpm]  GenSpeed_[rpm]  \\\n",
            "0              0.0     180.381555        8.750559      848.781155   \n",
            "\n",
            "   NacYaw_[deg]  OoPDefl1_[m]  ...  B1RdtFzi_[N]  B1RdtMxi_[N-m]  \\\n",
            "0      0.000938      2.976672  ...   -897.430432    10246.392894   \n",
            "\n",
            "   B1RdtMyi_[N-m]  B1RdtMzi_[N-m]       T[1]_[N]     T_a[1]_[N]      T[2]_[N]  \\\n",
            "0   -3.415471e+06   -7.343369e-11  703462.426624  529303.228813  1.066448e+06   \n",
            "\n",
            "      T_a[2]_[N]      T[3]_[N]     T_a[3]_[N]  \n",
            "0  892337.975524  1.063370e+06  889271.114433  \n",
            "\n",
            "[1 rows x 95 columns]\n"
          ]
        }
      ],
      "source": [
        "# Average Post-treatment of OpenFAST output file\n",
        "\n",
        "outFile = os.path.join(path, 'NRELOffshrBsline5MW.out') # path\\outputfile\n",
        "avg_results = postpro.averagePostPro([outFile])\n",
        "print('Average results on full simulation length')\n",
        "print(avg_results)"
      ]
    },
    {
      "cell_type": "markdown",
      "id": "596ffb26",
      "metadata": {
        "id": "596ffb26"
      },
      "source": [
        "#### Read an OpenFAST output file and convert it to a pandas DataFrame"
      ]
    },
    {
      "cell_type": "code",
      "execution_count": null,
      "id": "f25eae98",
      "metadata": {
        "id": "f25eae98"
      },
      "outputs": [],
      "source": [
        "df = FASTOutputFile(outFile).toDataFrame()"
      ]
    },
    {
      "cell_type": "code",
      "execution_count": null,
      "id": "1c8dd1bf",
      "metadata": {
        "colab": {
          "base_uri": "https://localhost:8080/",
          "height": 273
        },
        "id": "1c8dd1bf",
        "outputId": "576cba4f-7257-4d18-89e7-7e454c7c2c88",
        "scrolled": true
      },
      "outputs": [
        {
          "data": {
            "text/html": [
              "\n",
              "  <div id=\"df-9a7f731d-03aa-425d-b2e6-a25601ed3536\" class=\"colab-df-container\">\n",
              "    <div>\n",
              "<style scoped>\n",
              "    .dataframe tbody tr th:only-of-type {\n",
              "        vertical-align: middle;\n",
              "    }\n",
              "\n",
              "    .dataframe tbody tr th {\n",
              "        vertical-align: top;\n",
              "    }\n",
              "\n",
              "    .dataframe thead th {\n",
              "        text-align: right;\n",
              "    }\n",
              "</style>\n",
              "<table border=\"1\" class=\"dataframe\">\n",
              "  <thead>\n",
              "    <tr style=\"text-align: right;\">\n",
              "      <th></th>\n",
              "      <th>Time_[s]</th>\n",
              "      <th>Wind1VelX_[m/s]</th>\n",
              "      <th>Wind1VelY_[m/s]</th>\n",
              "      <th>Wind1VelZ_[m/s]</th>\n",
              "      <th>BldPitch1_[deg]</th>\n",
              "      <th>Azimuth_[deg]</th>\n",
              "      <th>RotSpeed_[rpm]</th>\n",
              "      <th>GenSpeed_[rpm]</th>\n",
              "      <th>NacYaw_[deg]</th>\n",
              "      <th>OoPDefl1_[m]</th>\n",
              "      <th>...</th>\n",
              "      <th>B1RdtFzi_[N]</th>\n",
              "      <th>B1RdtMxi_[N-m]</th>\n",
              "      <th>B1RdtMyi_[N-m]</th>\n",
              "      <th>B1RdtMzi_[N-m]</th>\n",
              "      <th>T[1]_[N]</th>\n",
              "      <th>T_a[1]_[N]</th>\n",
              "      <th>T[2]_[N]</th>\n",
              "      <th>T_a[2]_[N]</th>\n",
              "      <th>T[3]_[N]</th>\n",
              "      <th>T_a[3]_[N]</th>\n",
              "    </tr>\n",
              "  </thead>\n",
              "  <tbody>\n",
              "    <tr>\n",
              "      <th>0</th>\n",
              "      <td>0.0000</td>\n",
              "      <td>8.0</td>\n",
              "      <td>-0.0</td>\n",
              "      <td>0.0</td>\n",
              "      <td>0.0</td>\n",
              "      <td>0.000000</td>\n",
              "      <td>8.000000</td>\n",
              "      <td>776.00000</td>\n",
              "      <td>0.000000</td>\n",
              "      <td>0.000000</td>\n",
              "      <td>...</td>\n",
              "      <td>-17496.096</td>\n",
              "      <td>6998.1641</td>\n",
              "      <td>95388768.0</td>\n",
              "      <td>-2.664432e-16</td>\n",
              "      <td>911089.50</td>\n",
              "      <td>736845.19</td>\n",
              "      <td>911089.94</td>\n",
              "      <td>736845.69</td>\n",
              "      <td>911089.94</td>\n",
              "      <td>736845.69</td>\n",
              "    </tr>\n",
              "    <tr>\n",
              "      <th>1</th>\n",
              "      <td>0.0125</td>\n",
              "      <td>8.0</td>\n",
              "      <td>-0.0</td>\n",
              "      <td>0.0</td>\n",
              "      <td>0.0</td>\n",
              "      <td>0.600155</td>\n",
              "      <td>8.004406</td>\n",
              "      <td>773.74615</td>\n",
              "      <td>-0.000039</td>\n",
              "      <td>0.004239</td>\n",
              "      <td>...</td>\n",
              "      <td>-17275.918</td>\n",
              "      <td>31066.5620</td>\n",
              "      <td>95910784.0</td>\n",
              "      <td>1.297027e-10</td>\n",
              "      <td>911088.88</td>\n",
              "      <td>736844.62</td>\n",
              "      <td>911090.31</td>\n",
              "      <td>736846.06</td>\n",
              "      <td>911090.31</td>\n",
              "      <td>736846.06</td>\n",
              "    </tr>\n",
              "    <tr>\n",
              "      <th>2</th>\n",
              "      <td>0.0250</td>\n",
              "      <td>8.0</td>\n",
              "      <td>-0.0</td>\n",
              "      <td>0.0</td>\n",
              "      <td>0.0</td>\n",
              "      <td>1.200638</td>\n",
              "      <td>8.007770</td>\n",
              "      <td>771.60535</td>\n",
              "      <td>-0.000141</td>\n",
              "      <td>0.016629</td>\n",
              "      <td>...</td>\n",
              "      <td>-17037.316</td>\n",
              "      <td>69358.6480</td>\n",
              "      <td>96330104.0</td>\n",
              "      <td>4.047802e-10</td>\n",
              "      <td>911087.06</td>\n",
              "      <td>736842.81</td>\n",
              "      <td>911091.44</td>\n",
              "      <td>736847.19</td>\n",
              "      <td>911091.44</td>\n",
              "      <td>736847.19</td>\n",
              "    </tr>\n",
              "    <tr>\n",
              "      <th>3</th>\n",
              "      <td>0.0375</td>\n",
              "      <td>8.0</td>\n",
              "      <td>-0.0</td>\n",
              "      <td>0.0</td>\n",
              "      <td>0.0</td>\n",
              "      <td>1.801257</td>\n",
              "      <td>8.008302</td>\n",
              "      <td>769.63898</td>\n",
              "      <td>-0.000278</td>\n",
              "      <td>0.036902</td>\n",
              "      <td>...</td>\n",
              "      <td>-16775.879</td>\n",
              "      <td>111398.9100</td>\n",
              "      <td>96656032.0</td>\n",
              "      <td>7.534835e-10</td>\n",
              "      <td>911084.06</td>\n",
              "      <td>736839.81</td>\n",
              "      <td>911093.38</td>\n",
              "      <td>736849.06</td>\n",
              "      <td>911093.31</td>\n",
              "      <td>736849.06</td>\n",
              "    </tr>\n",
              "    <tr>\n",
              "      <th>4</th>\n",
              "      <td>0.0500</td>\n",
              "      <td>8.0</td>\n",
              "      <td>-0.0</td>\n",
              "      <td>0.0</td>\n",
              "      <td>0.0</td>\n",
              "      <td>2.401822</td>\n",
              "      <td>8.006063</td>\n",
              "      <td>767.89429</td>\n",
              "      <td>-0.000416</td>\n",
              "      <td>0.065093</td>\n",
              "      <td>...</td>\n",
              "      <td>-16493.660</td>\n",
              "      <td>145158.4400</td>\n",
              "      <td>96907392.0</td>\n",
              "      <td>1.090087e-09</td>\n",
              "      <td>911079.88</td>\n",
              "      <td>736835.56</td>\n",
              "      <td>911096.00</td>\n",
              "      <td>736851.69</td>\n",
              "      <td>911096.00</td>\n",
              "      <td>736851.62</td>\n",
              "    </tr>\n",
              "  </tbody>\n",
              "</table>\n",
              "<p>5 rows × 95 columns</p>\n",
              "</div>\n",
              "    <div class=\"colab-df-buttons\">\n",
              "\n",
              "  <div class=\"colab-df-container\">\n",
              "    <button class=\"colab-df-convert\" onclick=\"convertToInteractive('df-9a7f731d-03aa-425d-b2e6-a25601ed3536')\"\n",
              "            title=\"Convert this dataframe to an interactive table.\"\n",
              "            style=\"display:none;\">\n",
              "\n",
              "  <svg xmlns=\"http://www.w3.org/2000/svg\" height=\"24px\" viewBox=\"0 -960 960 960\">\n",
              "    <path d=\"M120-120v-720h720v720H120Zm60-500h600v-160H180v160Zm220 220h160v-160H400v160Zm0 220h160v-160H400v160ZM180-400h160v-160H180v160Zm440 0h160v-160H620v160ZM180-180h160v-160H180v160Zm440 0h160v-160H620v160Z\"/>\n",
              "  </svg>\n",
              "    </button>\n",
              "\n",
              "  <style>\n",
              "    .colab-df-container {\n",
              "      display:flex;\n",
              "      gap: 12px;\n",
              "    }\n",
              "\n",
              "    .colab-df-convert {\n",
              "      background-color: #E8F0FE;\n",
              "      border: none;\n",
              "      border-radius: 50%;\n",
              "      cursor: pointer;\n",
              "      display: none;\n",
              "      fill: #1967D2;\n",
              "      height: 32px;\n",
              "      padding: 0 0 0 0;\n",
              "      width: 32px;\n",
              "    }\n",
              "\n",
              "    .colab-df-convert:hover {\n",
              "      background-color: #E2EBFA;\n",
              "      box-shadow: 0px 1px 2px rgba(60, 64, 67, 0.3), 0px 1px 3px 1px rgba(60, 64, 67, 0.15);\n",
              "      fill: #174EA6;\n",
              "    }\n",
              "\n",
              "    .colab-df-buttons div {\n",
              "      margin-bottom: 4px;\n",
              "    }\n",
              "\n",
              "    [theme=dark] .colab-df-convert {\n",
              "      background-color: #3B4455;\n",
              "      fill: #D2E3FC;\n",
              "    }\n",
              "\n",
              "    [theme=dark] .colab-df-convert:hover {\n",
              "      background-color: #434B5C;\n",
              "      box-shadow: 0px 1px 3px 1px rgba(0, 0, 0, 0.15);\n",
              "      filter: drop-shadow(0px 1px 2px rgba(0, 0, 0, 0.3));\n",
              "      fill: #FFFFFF;\n",
              "    }\n",
              "  </style>\n",
              "\n",
              "    <script>\n",
              "      const buttonEl =\n",
              "        document.querySelector('#df-9a7f731d-03aa-425d-b2e6-a25601ed3536 button.colab-df-convert');\n",
              "      buttonEl.style.display =\n",
              "        google.colab.kernel.accessAllowed ? 'block' : 'none';\n",
              "\n",
              "      async function convertToInteractive(key) {\n",
              "        const element = document.querySelector('#df-9a7f731d-03aa-425d-b2e6-a25601ed3536');\n",
              "        const dataTable =\n",
              "          await google.colab.kernel.invokeFunction('convertToInteractive',\n",
              "                                                    [key], {});\n",
              "        if (!dataTable) return;\n",
              "\n",
              "        const docLinkHtml = 'Like what you see? Visit the ' +\n",
              "          '<a target=\"_blank\" href=https://colab.research.google.com/notebooks/data_table.ipynb>data table notebook</a>'\n",
              "          + ' to learn more about interactive tables.';\n",
              "        element.innerHTML = '';\n",
              "        dataTable['output_type'] = 'display_data';\n",
              "        await google.colab.output.renderOutput(dataTable, element);\n",
              "        const docLink = document.createElement('div');\n",
              "        docLink.innerHTML = docLinkHtml;\n",
              "        element.appendChild(docLink);\n",
              "      }\n",
              "    </script>\n",
              "  </div>\n",
              "\n",
              "\n",
              "<div id=\"df-ad02d0b6-2290-48c6-8310-a52632b146f7\">\n",
              "  <button class=\"colab-df-quickchart\" onclick=\"quickchart('df-ad02d0b6-2290-48c6-8310-a52632b146f7')\"\n",
              "            title=\"Suggest charts\"\n",
              "            style=\"display:none;\">\n",
              "\n",
              "<svg xmlns=\"http://www.w3.org/2000/svg\" height=\"24px\"viewBox=\"0 0 24 24\"\n",
              "     width=\"24px\">\n",
              "    <g>\n",
              "        <path d=\"M19 3H5c-1.1 0-2 .9-2 2v14c0 1.1.9 2 2 2h14c1.1 0 2-.9 2-2V5c0-1.1-.9-2-2-2zM9 17H7v-7h2v7zm4 0h-2V7h2v10zm4 0h-2v-4h2v4z\"/>\n",
              "    </g>\n",
              "</svg>\n",
              "  </button>\n",
              "\n",
              "<style>\n",
              "  .colab-df-quickchart {\n",
              "      --bg-color: #E8F0FE;\n",
              "      --fill-color: #1967D2;\n",
              "      --hover-bg-color: #E2EBFA;\n",
              "      --hover-fill-color: #174EA6;\n",
              "      --disabled-fill-color: #AAA;\n",
              "      --disabled-bg-color: #DDD;\n",
              "  }\n",
              "\n",
              "  [theme=dark] .colab-df-quickchart {\n",
              "      --bg-color: #3B4455;\n",
              "      --fill-color: #D2E3FC;\n",
              "      --hover-bg-color: #434B5C;\n",
              "      --hover-fill-color: #FFFFFF;\n",
              "      --disabled-bg-color: #3B4455;\n",
              "      --disabled-fill-color: #666;\n",
              "  }\n",
              "\n",
              "  .colab-df-quickchart {\n",
              "    background-color: var(--bg-color);\n",
              "    border: none;\n",
              "    border-radius: 50%;\n",
              "    cursor: pointer;\n",
              "    display: none;\n",
              "    fill: var(--fill-color);\n",
              "    height: 32px;\n",
              "    padding: 0;\n",
              "    width: 32px;\n",
              "  }\n",
              "\n",
              "  .colab-df-quickchart:hover {\n",
              "    background-color: var(--hover-bg-color);\n",
              "    box-shadow: 0 1px 2px rgba(60, 64, 67, 0.3), 0 1px 3px 1px rgba(60, 64, 67, 0.15);\n",
              "    fill: var(--button-hover-fill-color);\n",
              "  }\n",
              "\n",
              "  .colab-df-quickchart-complete:disabled,\n",
              "  .colab-df-quickchart-complete:disabled:hover {\n",
              "    background-color: var(--disabled-bg-color);\n",
              "    fill: var(--disabled-fill-color);\n",
              "    box-shadow: none;\n",
              "  }\n",
              "\n",
              "  .colab-df-spinner {\n",
              "    border: 2px solid var(--fill-color);\n",
              "    border-color: transparent;\n",
              "    border-bottom-color: var(--fill-color);\n",
              "    animation:\n",
              "      spin 1s steps(1) infinite;\n",
              "  }\n",
              "\n",
              "  @keyframes spin {\n",
              "    0% {\n",
              "      border-color: transparent;\n",
              "      border-bottom-color: var(--fill-color);\n",
              "      border-left-color: var(--fill-color);\n",
              "    }\n",
              "    20% {\n",
              "      border-color: transparent;\n",
              "      border-left-color: var(--fill-color);\n",
              "      border-top-color: var(--fill-color);\n",
              "    }\n",
              "    30% {\n",
              "      border-color: transparent;\n",
              "      border-left-color: var(--fill-color);\n",
              "      border-top-color: var(--fill-color);\n",
              "      border-right-color: var(--fill-color);\n",
              "    }\n",
              "    40% {\n",
              "      border-color: transparent;\n",
              "      border-right-color: var(--fill-color);\n",
              "      border-top-color: var(--fill-color);\n",
              "    }\n",
              "    60% {\n",
              "      border-color: transparent;\n",
              "      border-right-color: var(--fill-color);\n",
              "    }\n",
              "    80% {\n",
              "      border-color: transparent;\n",
              "      border-right-color: var(--fill-color);\n",
              "      border-bottom-color: var(--fill-color);\n",
              "    }\n",
              "    90% {\n",
              "      border-color: transparent;\n",
              "      border-bottom-color: var(--fill-color);\n",
              "    }\n",
              "  }\n",
              "</style>\n",
              "\n",
              "  <script>\n",
              "    async function quickchart(key) {\n",
              "      const quickchartButtonEl =\n",
              "        document.querySelector('#' + key + ' button');\n",
              "      quickchartButtonEl.disabled = true;  // To prevent multiple clicks.\n",
              "      quickchartButtonEl.classList.add('colab-df-spinner');\n",
              "      try {\n",
              "        const charts = await google.colab.kernel.invokeFunction(\n",
              "            'suggestCharts', [key], {});\n",
              "      } catch (error) {\n",
              "        console.error('Error during call to suggestCharts:', error);\n",
              "      }\n",
              "      quickchartButtonEl.classList.remove('colab-df-spinner');\n",
              "      quickchartButtonEl.classList.add('colab-df-quickchart-complete');\n",
              "    }\n",
              "    (() => {\n",
              "      let quickchartButtonEl =\n",
              "        document.querySelector('#df-ad02d0b6-2290-48c6-8310-a52632b146f7 button');\n",
              "      quickchartButtonEl.style.display =\n",
              "        google.colab.kernel.accessAllowed ? 'block' : 'none';\n",
              "    })();\n",
              "  </script>\n",
              "</div>\n",
              "    </div>\n",
              "  </div>\n"
            ],
            "text/plain": [
              "   Time_[s]  Wind1VelX_[m/s]  Wind1VelY_[m/s]  Wind1VelZ_[m/s]  \\\n",
              "0    0.0000              8.0             -0.0              0.0   \n",
              "1    0.0125              8.0             -0.0              0.0   \n",
              "2    0.0250              8.0             -0.0              0.0   \n",
              "3    0.0375              8.0             -0.0              0.0   \n",
              "4    0.0500              8.0             -0.0              0.0   \n",
              "\n",
              "   BldPitch1_[deg]  Azimuth_[deg]  RotSpeed_[rpm]  GenSpeed_[rpm]  \\\n",
              "0              0.0       0.000000        8.000000       776.00000   \n",
              "1              0.0       0.600155        8.004406       773.74615   \n",
              "2              0.0       1.200638        8.007770       771.60535   \n",
              "3              0.0       1.801257        8.008302       769.63898   \n",
              "4              0.0       2.401822        8.006063       767.89429   \n",
              "\n",
              "   NacYaw_[deg]  OoPDefl1_[m]  ...  B1RdtFzi_[N]  B1RdtMxi_[N-m]  \\\n",
              "0      0.000000      0.000000  ...    -17496.096       6998.1641   \n",
              "1     -0.000039      0.004239  ...    -17275.918      31066.5620   \n",
              "2     -0.000141      0.016629  ...    -17037.316      69358.6480   \n",
              "3     -0.000278      0.036902  ...    -16775.879     111398.9100   \n",
              "4     -0.000416      0.065093  ...    -16493.660     145158.4400   \n",
              "\n",
              "   B1RdtMyi_[N-m]  B1RdtMzi_[N-m]   T[1]_[N]  T_a[1]_[N]   T[2]_[N]  \\\n",
              "0      95388768.0   -2.664432e-16  911089.50   736845.19  911089.94   \n",
              "1      95910784.0    1.297027e-10  911088.88   736844.62  911090.31   \n",
              "2      96330104.0    4.047802e-10  911087.06   736842.81  911091.44   \n",
              "3      96656032.0    7.534835e-10  911084.06   736839.81  911093.38   \n",
              "4      96907392.0    1.090087e-09  911079.88   736835.56  911096.00   \n",
              "\n",
              "   T_a[2]_[N]   T[3]_[N]  T_a[3]_[N]  \n",
              "0   736845.69  911089.94   736845.69  \n",
              "1   736846.06  911090.31   736846.06  \n",
              "2   736847.19  911091.44   736847.19  \n",
              "3   736849.06  911093.31   736849.06  \n",
              "4   736851.69  911096.00   736851.62  \n",
              "\n",
              "[5 rows x 95 columns]"
            ]
          },
          "execution_count": 56,
          "metadata": {},
          "output_type": "execute_result"
        }
      ],
      "source": [
        "df.head()"
      ]
    },
    {
      "cell_type": "markdown",
      "id": "44eed165",
      "metadata": {
        "id": "44eed165"
      },
      "source": [
        "#### Exercice:\n",
        "\n",
        "##### Rotor speed of the wind turbine:\n",
        "\n",
        "Plot the rotor speed of the wind turbine versus the time obtained from the previous simulation. The variables of interest in the Pandas Dataframe are respectively named *RotSpeed_[rpm]* and *Time_[s]*.\n",
        "\n",
        "Hint:\n",
        "\n",
        "You can use the matplotlib library in order to plot y versus x as lines.\n",
        "\n",
        "For information [click here](https://matplotlib.org/stable/api/_as_gen/matplotlib.pyplot.plot.html) and an example:\n",
        "```python\n",
        "import matplotlib.pyplot as plt\n",
        "\n",
        "x = [1, 2, 3]\n",
        "y = np.array([[1, 2], [3, 4], [5, 6]])\n",
        "plot(x, y)\n",
        "```"
      ]
    },
    {
      "cell_type": "code",
      "execution_count": null,
      "id": "a9795e2e",
      "metadata": {
        "id": "a9795e2e"
      },
      "outputs": [],
      "source": [
        "# INSERT CODE"
      ]
    },
    {
      "cell_type": "markdown",
      "id": "59b6e994",
      "metadata": {
        "id": "59b6e994"
      },
      "source": [
        "##### Rotor speed and generated power of the wind turbine:\n",
        "\n",
        "Plot the rotor speed and the generated power of the wind turbine versus the time obtained from the previous simulation. For comparison, you can plot the two time-series on the same graph thanks to the function *subplot*.\n",
        "\n",
        "Hint:\n",
        "\n",
        "You can find the corresponding variables of the Pandas Dataframe for the electrical generator power by looking at the Excel file *OutListParameters.xlsx*.\n",
        "\n",
        "An example of the python function to be used:\n",
        "\n",
        "```python\n",
        "import numpy as np\n",
        "import matplotlib.pyplot as plt\n",
        "\n",
        "\n",
        "def f(t):\n",
        "    return np.exp(-t) * np.cos(2*np.pi*t)\n",
        "\n",
        "\n",
        "t1 = np.arange(0.0, 5.0, 0.02)\n",
        "\n",
        "plt.figure()\n",
        "plt.subplot(211)\n",
        "plt.plot(t1, f(t1), color='black')\n",
        "\n",
        "plt.subplot(212)\n",
        "plt.plot(t1, np.cos(2*np.pi*t1), color='tab:orange', linestyle='--')\n",
        "plt.show()\n",
        "```"
      ]
    },
    {
      "cell_type": "code",
      "execution_count": null,
      "id": "e7006e39",
      "metadata": {
        "id": "e7006e39"
      },
      "outputs": [],
      "source": [
        "# INSERT CODE"
      ]
    },
    {
      "cell_type": "markdown",
      "id": "9b927c62",
      "metadata": {
        "id": "9b927c62"
      },
      "source": [
        "### 2 - Modification of the OpenFAST files\n",
        "\n",
        "In practice, OpenFAST models the system via computational modules for aerodynamics, hydrodynamics for offshore structures, control and electrical (servo) system dynamics, and structural dynamics to enable coupled non-linear aero-hydro-servo-elastic simulation in the time domain.\n",
        "\n",
        "<img src=\"https://drive.google.com/uc?export=view&id=1dvyZ1GJtchd-H5oamzObL6XOaqFi0uN3\" width=\"500\"/>\n",
        "\n",
        "Each of these modules is independent of the others and is based on a configuration file that creates an arborescence of files to carry out an OpenFAST simulation.\n",
        "\n",
        "<img src=\"https://drive.google.com/uc?export=view&id=1jBPGzDmvX49-6FInYqm1KM9evxC_BJRw\" width=\"500\"/>"
      ]
    },
    {
      "cell_type": "markdown",
      "id": "138093ab",
      "metadata": {
        "id": "138093ab"
      },
      "source": [
        "#### Modification of the wind speed magnitude\n",
        "\n",
        "In this part, we will modify the wind speed magnitude to the rated value. For that purpose we will have to change a specific variable in the InflowWind file related to the wind-inflow external sollicitation.\n",
        "\n",
        "First, you will have to open the InflowWind file and find the correct value to change. **Remember** that we consider in this tutorial for simplicity a steady wind solicitation.\n",
        "\n",
        "**Hint:**\n",
        "\n",
        "    Pay attention to the comments in the file of interest !\n",
        "\n",
        "##### Modification of the InflowWind file"
      ]
    },
    {
      "cell_type": "code",
      "execution_count": null,
      "id": "2d727696",
      "metadata": {
        "id": "2d727696"
      },
      "outputs": [],
      "source": [
        "filename_inflow = os.path.join(path, 'InflowWind.dat') # Insert the name of the InflowWind file with the path (relative or absolute)\n",
        "f_inflow = FASTInputFile(filename_inflow)\n",
        "f_inflow['HWindSpeed'] = 11.4 # Insert the rated speed of the 5MW wind turbine\n",
        "new_filename_inflow = 'InflowWind_{}mps.dat'.format(int(f_inflow['HWindSpeed'])) # New name of the InflowWind file\n",
        "save_path = os.path.join(path, new_filename_inflow)\n",
        "f_inflow.write(save_path) # Save the new generated InflowWind file"
      ]
    },
    {
      "cell_type": "markdown",
      "id": "bcb9b491",
      "metadata": {
        "id": "bcb9b491"
      },
      "source": [
        "##### Modification of the main OpenFAST file"
      ]
    },
    {
      "cell_type": "code",
      "execution_count": null,
      "id": "ee6e6207",
      "metadata": {
        "id": "ee6e6207"
      },
      "outputs": [],
      "source": [
        "f_mainfile = FASTInputFile(main_file)\n",
        "f_mainfile['InflowFile'] = '\"'+new_filename_inflow+'\"'\n",
        "new_filename_mainfile = os.path.join(path, 'Main_{}mps.fst'.format(int(f_inflow['HWindSpeed'])))\n",
        "f_mainfile.write(new_filename_mainfile)"
      ]
    },
    {
      "cell_type": "markdown",
      "id": "4df96494",
      "metadata": {
        "id": "4df96494"
      },
      "source": [
        "##### Run OpenFAST with the new modified files.\n",
        "\n",
        "**Hint:**\n",
        "    \n",
        "    You can use the previous command use to run the simulation"
      ]
    },
    {
      "cell_type": "code",
      "execution_count": null,
      "id": "9660ab2f",
      "metadata": {
        "id": "9660ab2f",
        "scrolled": true
      },
      "outputs": [],
      "source": [
        "# INSERT CODE"
      ]
    },
    {
      "cell_type": "markdown",
      "id": "1e948fa1",
      "metadata": {
        "id": "1e948fa1"
      },
      "source": [
        "##### Rotor speed and generated power of the wind turbine:\n",
        "\n",
        "Plot the rotor speed and the generated power of the wind turbine versus the time obtained from the previous simulation. For comparison, you can plot the two time-series on the same graph thanks to the function *subplot* as previously.\n",
        "\n",
        "Please plot also the results of the 1-st simulation obtained in this tutorial for comparison!\n",
        "\n",
        "**Hint:**\n",
        "\n",
        "    Load the output file in a new pandas dataframe"
      ]
    },
    {
      "cell_type": "code",
      "execution_count": null,
      "id": "faa39306",
      "metadata": {
        "id": "faa39306",
        "scrolled": true
      },
      "outputs": [],
      "source": [
        "# INSERT CODE"
      ]
    },
    {
      "cell_type": "code",
      "execution_count": null,
      "id": "b16bf5fb",
      "metadata": {
        "id": "b16bf5fb"
      },
      "outputs": [],
      "source": [
        "# INSERT CODE"
      ]
    },
    {
      "cell_type": "markdown",
      "id": "db3cc145",
      "metadata": {
        "id": "db3cc145"
      },
      "source": [
        "#### Time for discussion"
      ]
    }
  ],
  "metadata": {
    "colab": {
      "include_colab_link": true,
      "provenance": []
    },
    "kernelspec": {
      "display_name": "Python 3 (ipykernel)",
      "language": "python",
      "name": "python3"
    },
    "language_info": {
      "codemirror_mode": {
        "name": "ipython",
        "version": 3
      },
      "file_extension": ".py",
      "mimetype": "text/x-python",
      "name": "python",
      "nbconvert_exporter": "python",
      "pygments_lexer": "ipython3",
      "version": "3.8.15"
    }
  },
  "nbformat": 4,
  "nbformat_minor": 5
}
