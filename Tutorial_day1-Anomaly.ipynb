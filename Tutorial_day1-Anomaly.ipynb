{
 "cells": [
  {
   "cell_type": "markdown",
   "metadata": {},
   "source": [
    "<a href=\"https://colab.research.google.com/github/Ahirvoas/Training-Day1/blob/main/Tutorial_day1-Pandas.ipynb\" target=\"_parent\"><img src=\"https://colab.research.google.com/assets/colab-badge.svg\" alt=\"Open In Colab\"/></a>"
   ]
  },
  {
   "cell_type": "markdown",
   "metadata": {},
   "source": [
    "# Wind Turbine Modeling Workshop"
   ]
  },
  {
   "cell_type": "markdown",
   "metadata": {},
   "source": [
    "In this notebook, we have access to three comprehensive datasets, each providing crucial information about wind turbine operations:\n",
    "\n",
    "* `scada_data.csv`: This dataset includes over 60 different parameters or statuses related to the components of wind turbines, all recorded by the Supervisory Control and Data Acquisition (SCADA) system. These parameters offer detailed insights into the operational conditions and performance metrics of the turbines.\n",
    "\n",
    "* `fault_data.csv`: This dataset catalogs various fault types or modes that can occur in wind turbines. It provides essential information for diagnosing and understanding the different failure mechanisms that may affect turbine performance and reliability.\n",
    "\n",
    "* `status_data.csv`: This dataset contains descriptions of the operational statuses of wind turbines. It details the various states and conditions under which the turbines operate, helping to monitor and analyze their performance and operational efficiency."
   ]
  },
  {
   "cell_type": "code",
   "execution_count": null,
   "metadata": {},
   "outputs": [],
   "source": [
    "import pandas as pd "
   ]
  },
  {
   "cell_type": "markdown",
   "metadata": {},
   "source": [
    "#### 1. Read data"
   ]
  },
  {
   "cell_type": "code",
   "execution_count": null,
   "metadata": {},
   "outputs": [],
   "source": [
    "scada_df = pd.read_csv('https://raw.githubusercontent.com/Ahirvoas/Training-Day1/refs/heads/main/data/scada_data.csv')\n",
    "scada_df['DateTime'] = pd.to_datetime(scada_df['DateTime'])"
   ]
  },
  {
   "cell_type": "code",
   "execution_count": null,
   "metadata": {},
   "outputs": [],
   "source": [
    "fault_df = pd.read_csv('fault_data.csv')\n",
    "fault_df['DateTime'] = pd.to_datetime(fault_df['DateTime'])"
   ]
  },
  {
   "cell_type": "code",
   "execution_count": null,
   "metadata": {},
   "outputs": [],
   "source": [
    "status_df = pd.read_csv('https://raw.githubusercontent.com/Ahirvoas/Training-Day1/refs/heads/main/data/status_data.csv')\n",
    "status_df['DateTime'] = pd.to_datetime(status_df['DateTime'])"
   ]
  },
  {
   "cell_type": "code",
   "execution_count": null,
   "metadata": {},
   "outputs": [],
   "source": [
    "scada_df.head()"
   ]
  },
  {
   "cell_type": "markdown",
   "metadata": {},
   "source": [
    "**Exercise** \n",
    "\n",
    "Display the first 5 rows of each dataframe."
   ]
  },
  {
   "cell_type": "code",
   "execution_count": null,
   "metadata": {},
   "outputs": [],
   "source": []
  },
  {
   "cell_type": "code",
   "execution_count": null,
   "metadata": {},
   "outputs": [],
   "source": []
  },
  {
   "cell_type": "code",
   "execution_count": null,
   "metadata": {},
   "outputs": [],
   "source": []
  },
  {
   "cell_type": "code",
   "execution_count": null,
   "metadata": {},
   "outputs": [],
   "source": [
    "fault_df.Fault.unique()"
   ]
  },
  {
   "cell_type": "markdown",
   "metadata": {},
   "source": [
    "The fault dataset catalogs various fault types or modes that can occur in wind turbines. Specifically, it includes five types of faults:\n",
    "\n",
    "* gf: Generator Heating Fault\n",
    "* mf: Mains Failure Fault\n",
    "* ff: Feeding Fault\n",
    "* af: Timeout Warning Message - Malfunction Air Cooling\n",
    "* ef: Excitation Error - Overvoltage DC-Link\n",
    "\n",
    "This information is essential for diagnosing and understanding the different failure mechanisms that may affect turbine performance and reliability."
   ]
  },
  {
   "cell_type": "markdown",
   "metadata": {},
   "source": [
    "#### 2. Time series analysis\n",
    "\n",
    "Plot the different time spans corresponding to the three previous datasets stored in the `scada_df`, `fault_df` and `status_df` dataframes."
   ]
  },
  {
   "cell_type": "code",
   "execution_count": null,
   "metadata": {},
   "outputs": [],
   "source": []
  },
  {
   "cell_type": "markdown",
   "metadata": {},
   "source": [
    "Plot the maximum power with the corresponding maximum wind speed from the SCADA stored in the `scada_df` dataframe."
   ]
  },
  {
   "cell_type": "code",
   "execution_count": null,
   "metadata": {},
   "outputs": [],
   "source": []
  },
  {
   "cell_type": "markdown",
   "metadata": {},
   "source": [
    "Do the same but by resampling the data weekly"
   ]
  },
  {
   "cell_type": "code",
   "execution_count": null,
   "metadata": {},
   "outputs": [],
   "source": []
  },
  {
   "cell_type": "markdown",
   "metadata": {},
   "source": [
    "Plot of number of faults on monthly resampled data"
   ]
  },
  {
   "cell_type": "code",
   "execution_count": null,
   "metadata": {},
   "outputs": [],
   "source": []
  },
  {
   "cell_type": "markdown",
   "metadata": {},
   "source": [
    "### 3. Combine SCADA and faults data\n",
    "\n",
    "Combine SCADA and fault data to pair each measurements with associated faults. To do so, we will use the `merge` function from pandas on Time and with the how='outer' argument."
   ]
  },
  {
   "cell_type": "code",
   "execution_count": null,
   "metadata": {},
   "outputs": [],
   "source": [
    "df_combine ="
   ]
  },
  {
   "cell_type": "markdown",
   "metadata": {},
   "source": [
    "Additionally, there are numerous NaNs, or unmatched SCADA timestamps with fault timestamps, simply because no faults occur at certain times. For these NaNs, we will replace them with \"NF\", which stands for No Fault (normal condition)."
   ]
  },
  {
   "cell_type": "code",
   "execution_count": null,
   "metadata": {},
   "outputs": [],
   "source": [
    "df_combine['Fault'] ="
   ]
  },
  {
   "cell_type": "markdown",
   "metadata": {},
   "source": [
    "Print the averages of SCADA values grouped by fault modes."
   ]
  },
  {
   "cell_type": "code",
   "execution_count": null,
   "metadata": {},
   "outputs": [],
   "source": []
  },
  {
   "cell_type": "markdown",
   "metadata": {},
   "source": [
    "### 4. Data preparation for ML"
   ]
  },
  {
   "cell_type": "code",
   "execution_count": null,
   "metadata": {},
   "outputs": [],
   "source": [
    "df_combine.Fault.value_counts().plot.pie(title='Fault Modes')"
   ]
  },
  {
   "cell_type": "code",
   "execution_count": null,
   "metadata": {},
   "outputs": [],
   "source": [
    "df_combine.Fault.value_counts()"
   ]
  },
  {
   "cell_type": "markdown",
   "metadata": {},
   "source": [
    "There are far more records of NF (normal condition) than faulty records - imbalanced dataset. We will sample the No Fault dataframe and pick only 300 records. "
   ]
  },
  {
   "cell_type": "code",
   "execution_count": null,
   "metadata": {},
   "outputs": [],
   "source": [
    "# No fault mode dataframe\n",
    "df_nf ="
   ]
  },
  {
   "cell_type": "code",
   "execution_count": null,
   "metadata": {},
   "outputs": [],
   "source": [
    "# With fault mode dataframe\n",
    "df_f ="
   ]
  },
  {
   "cell_type": "code",
   "execution_count": null,
   "metadata": {},
   "outputs": [],
   "source": [
    "# Combine no fault and faulty dataframes\n",
    "\n",
    "df_proportional = pd.concat((df_nf, df_f), axis=0).reset_index(drop=True)"
   ]
  },
  {
   "cell_type": "markdown",
   "metadata": {},
   "source": [
    "Preparing for the training dataset, we **drop irrelevant features**. First we drop datetime, time, and error columns. Next, features that \"de facto\" are output of wind turbine, such as power from wind, operating hours, and kWh production, are dropped. Also, climatic variable such as wind speed are not useful."
   ]
  },
  {
   "cell_type": "code",
   "execution_count": null,
   "metadata": {},
   "outputs": [],
   "source": [
    "df_final = df_proportional.loc[:, [\n",
    "    'WEC: ava. windspeed','WEC: ava. Rotation',\n",
    "    'WEC: ava. Power',\n",
    "    'WEC: ava. reactive Power',\n",
    "    'WEC: ava. blade angle A',\n",
    "    'Spinner temp.',\n",
    "    'Front bearing temp.',\n",
    "    'Rear bearing temp.',\n",
    "    'Pitch cabinet blade A temp.',\n",
    "    'Pitch cabinet blade B temp.',\n",
    "    'Pitch cabinet blade C temp.',\n",
    "    'Rotor temp. 1',\n",
    "    'Rotor temp. 2',\n",
    "    'Stator temp. 1',\n",
    "    'Stator temp. 2',\n",
    "    'Nacelle ambient temp. 1',\n",
    "    'Nacelle ambient temp. 2',\n",
    "    'Nacelle temp.',\n",
    "    'Nacelle cabinet temp.',\n",
    "    'Main carrier temp.',\n",
    "    'Rectifier cabinet temp.',\n",
    "    'Yaw inverter cabinet temp.',\n",
    "    'Fan inverter cabinet temp.',\n",
    "    'Ambient temp.',\n",
    "    'Tower temp.',\n",
    "    'Control cabinet temp.',\n",
    "    'Transformer temp.',\n",
    "    'Inverter cabinet temp. averages',\n",
    "    'Inverter cabinet temp. std dev',\n",
    "    'Fault']]"
   ]
  },
  {
   "cell_type": "code",
   "execution_count": null,
   "metadata": {},
   "outputs": [],
   "source": [
    "df_final.Fault.value_counts().plot.pie(title='Fault Modes')"
   ]
  },
  {
   "cell_type": "code",
   "execution_count": null,
   "metadata": {},
   "outputs": [],
   "source": []
  }
 ],
 "metadata": {
  "kernelspec": {
   "display_name": "base",
   "language": "python",
   "name": "python3"
  },
  "language_info": {
   "name": "python",
   "version": "3.12.11"
  }
 },
 "nbformat": 4,
 "nbformat_minor": 2
}
